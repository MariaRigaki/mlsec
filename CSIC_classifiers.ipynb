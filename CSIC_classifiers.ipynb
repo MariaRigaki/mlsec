{
 "cells": [
  {
   "cell_type": "code",
   "execution_count": 1,
   "metadata": {
    "collapsed": true
   },
   "outputs": [],
   "source": [
    "import pandas as pd\n",
    "import numpy as np\n",
    "from sklearn.feature_extraction.text import TfidfVectorizer, HashingVectorizer\n",
    "from sklearn.feature_selection import SelectKBest, chi2\n",
    "from sklearn import metrics"
   ]
  },
  {
   "cell_type": "code",
   "execution_count": 2,
   "metadata": {
    "collapsed": true
   },
   "outputs": [],
   "source": [
    "from sklearn.svm import LinearSVC\n",
    "from sklearn.linear_model import SGDClassifier\n",
    "from sklearn.linear_model import Perceptron\n",
    "from sklearn.linear_model import PassiveAggressiveClassifier\n",
    "from sklearn.naive_bayes import BernoulliNB, MultinomialNB\n",
    "from sklearn.neighbors import KNeighborsClassifier\n",
    "from sklearn.neighbors import NearestCentroid\n",
    "from sklearn.ensemble import RandomForestClassifier, GradientBoostingClassifier\n",
    "from sklearn.utils import shuffle"
   ]
  },
  {
   "cell_type": "code",
   "execution_count": 3,
   "metadata": {
    "collapsed": false
   },
   "outputs": [
    {
     "name": "stderr",
     "output_type": "stream",
     "text": [
      "/home/marik0/anaconda/lib/python2.7/site-packages/IPython/core/interactiveshell.py:2723: DtypeWarning: Columns (13) have mixed types. Specify dtype option on import or set low_memory=False.\n",
      "  interactivity=interactivity, compiler=compiler, result=result)\n"
     ]
    },
    {
     "data": {
      "text/html": [
       "<div>\n",
       "<table border=\"1\" class=\"dataframe\">\n",
       "  <thead>\n",
       "    <tr style=\"text-align: right;\">\n",
       "      <th></th>\n",
       "      <th>index</th>\n",
       "      <th>method</th>\n",
       "      <th>url</th>\n",
       "      <th>protocol</th>\n",
       "      <th>userAgent</th>\n",
       "      <th>pragma</th>\n",
       "      <th>cacheControl</th>\n",
       "      <th>accept</th>\n",
       "      <th>acceptEncoding</th>\n",
       "      <th>acceptCharset</th>\n",
       "      <th>acceptLanguage</th>\n",
       "      <th>host</th>\n",
       "      <th>connection</th>\n",
       "      <th>contentLength</th>\n",
       "      <th>contentType</th>\n",
       "      <th>cookie</th>\n",
       "      <th>payload</th>\n",
       "      <th>label</th>\n",
       "    </tr>\n",
       "  </thead>\n",
       "  <tbody>\n",
       "    <tr>\n",
       "      <th>0</th>\n",
       "      <td>0</td>\n",
       "      <td>GET</td>\n",
       "      <td>http://localhost:8080/tienda1/publico/anadir.jsp</td>\n",
       "      <td>HTTP/1.1</td>\n",
       "      <td>Mozilla/5.0 (compatible; Konqueror/3.5; Linux)...</td>\n",
       "      <td>no-cache</td>\n",
       "      <td>no-cache</td>\n",
       "      <td>text/xml,application/xml,application/xhtml+xml...</td>\n",
       "      <td>x-gzip, x-deflate, gzip, deflate</td>\n",
       "      <td>utf-8, utf-8;q=0.5, *;q=0.5</td>\n",
       "      <td>en</td>\n",
       "      <td>localhost:8080</td>\n",
       "      <td>close</td>\n",
       "      <td>null</td>\n",
       "      <td>null</td>\n",
       "      <td>JSESSIONID=B92A8B48B9008CD29F622A994E0F650D</td>\n",
       "      <td>id=2</td>\n",
       "      <td>anom</td>\n",
       "    </tr>\n",
       "    <tr>\n",
       "      <th>1</th>\n",
       "      <td>0</td>\n",
       "      <td>GET</td>\n",
       "      <td>http://localhost:8080/tienda1/publico/anadir.jsp</td>\n",
       "      <td>HTTP/1.1</td>\n",
       "      <td>Mozilla/5.0 (compatible; Konqueror/3.5; Linux)...</td>\n",
       "      <td>no-cache</td>\n",
       "      <td>no-cache</td>\n",
       "      <td>text/xml,application/xml,application/xhtml+xml...</td>\n",
       "      <td>x-gzip, x-deflate, gzip, deflate</td>\n",
       "      <td>utf-8, utf-8;q=0.5, *;q=0.5</td>\n",
       "      <td>en</td>\n",
       "      <td>localhost:8080</td>\n",
       "      <td>close</td>\n",
       "      <td>null</td>\n",
       "      <td>null</td>\n",
       "      <td>JSESSIONID=B92A8B48B9008CD29F622A994E0F650D</td>\n",
       "      <td>nombre=Jam�n Ib�rico</td>\n",
       "      <td>anom</td>\n",
       "    </tr>\n",
       "    <tr>\n",
       "      <th>2</th>\n",
       "      <td>0</td>\n",
       "      <td>GET</td>\n",
       "      <td>http://localhost:8080/tienda1/publico/anadir.jsp</td>\n",
       "      <td>HTTP/1.1</td>\n",
       "      <td>Mozilla/5.0 (compatible; Konqueror/3.5; Linux)...</td>\n",
       "      <td>no-cache</td>\n",
       "      <td>no-cache</td>\n",
       "      <td>text/xml,application/xml,application/xhtml+xml...</td>\n",
       "      <td>x-gzip, x-deflate, gzip, deflate</td>\n",
       "      <td>utf-8, utf-8;q=0.5, *;q=0.5</td>\n",
       "      <td>en</td>\n",
       "      <td>localhost:8080</td>\n",
       "      <td>close</td>\n",
       "      <td>null</td>\n",
       "      <td>null</td>\n",
       "      <td>JSESSIONID=B92A8B48B9008CD29F622A994E0F650D</td>\n",
       "      <td>precio=85</td>\n",
       "      <td>anom</td>\n",
       "    </tr>\n",
       "    <tr>\n",
       "      <th>3</th>\n",
       "      <td>0</td>\n",
       "      <td>GET</td>\n",
       "      <td>http://localhost:8080/tienda1/publico/anadir.jsp</td>\n",
       "      <td>HTTP/1.1</td>\n",
       "      <td>Mozilla/5.0 (compatible; Konqueror/3.5; Linux)...</td>\n",
       "      <td>no-cache</td>\n",
       "      <td>no-cache</td>\n",
       "      <td>text/xml,application/xml,application/xhtml+xml...</td>\n",
       "      <td>x-gzip, x-deflate, gzip, deflate</td>\n",
       "      <td>utf-8, utf-8;q=0.5, *;q=0.5</td>\n",
       "      <td>en</td>\n",
       "      <td>localhost:8080</td>\n",
       "      <td>close</td>\n",
       "      <td>null</td>\n",
       "      <td>null</td>\n",
       "      <td>JSESSIONID=B92A8B48B9008CD29F622A994E0F650D</td>\n",
       "      <td>cantidad='; DROP TABLE usuarios; SELECT * FROM...</td>\n",
       "      <td>anom</td>\n",
       "    </tr>\n",
       "    <tr>\n",
       "      <th>4</th>\n",
       "      <td>0</td>\n",
       "      <td>GET</td>\n",
       "      <td>http://localhost:8080/tienda1/publico/anadir.jsp</td>\n",
       "      <td>HTTP/1.1</td>\n",
       "      <td>Mozilla/5.0 (compatible; Konqueror/3.5; Linux)...</td>\n",
       "      <td>no-cache</td>\n",
       "      <td>no-cache</td>\n",
       "      <td>text/xml,application/xml,application/xhtml+xml...</td>\n",
       "      <td>x-gzip, x-deflate, gzip, deflate</td>\n",
       "      <td>utf-8, utf-8;q=0.5, *;q=0.5</td>\n",
       "      <td>en</td>\n",
       "      <td>localhost:8080</td>\n",
       "      <td>close</td>\n",
       "      <td>null</td>\n",
       "      <td>null</td>\n",
       "      <td>JSESSIONID=B92A8B48B9008CD29F622A994E0F650D</td>\n",
       "      <td>B1=A�adir al carrito</td>\n",
       "      <td>anom</td>\n",
       "    </tr>\n",
       "  </tbody>\n",
       "</table>\n",
       "</div>"
      ],
      "text/plain": [
       "   index method                                               url  protocol  \\\n",
       "0      0    GET  http://localhost:8080/tienda1/publico/anadir.jsp  HTTP/1.1   \n",
       "1      0    GET  http://localhost:8080/tienda1/publico/anadir.jsp  HTTP/1.1   \n",
       "2      0    GET  http://localhost:8080/tienda1/publico/anadir.jsp  HTTP/1.1   \n",
       "3      0    GET  http://localhost:8080/tienda1/publico/anadir.jsp  HTTP/1.1   \n",
       "4      0    GET  http://localhost:8080/tienda1/publico/anadir.jsp  HTTP/1.1   \n",
       "\n",
       "                                           userAgent    pragma cacheControl  \\\n",
       "0  Mozilla/5.0 (compatible; Konqueror/3.5; Linux)...  no-cache     no-cache   \n",
       "1  Mozilla/5.0 (compatible; Konqueror/3.5; Linux)...  no-cache     no-cache   \n",
       "2  Mozilla/5.0 (compatible; Konqueror/3.5; Linux)...  no-cache     no-cache   \n",
       "3  Mozilla/5.0 (compatible; Konqueror/3.5; Linux)...  no-cache     no-cache   \n",
       "4  Mozilla/5.0 (compatible; Konqueror/3.5; Linux)...  no-cache     no-cache   \n",
       "\n",
       "                                              accept  \\\n",
       "0  text/xml,application/xml,application/xhtml+xml...   \n",
       "1  text/xml,application/xml,application/xhtml+xml...   \n",
       "2  text/xml,application/xml,application/xhtml+xml...   \n",
       "3  text/xml,application/xml,application/xhtml+xml...   \n",
       "4  text/xml,application/xml,application/xhtml+xml...   \n",
       "\n",
       "                     acceptEncoding                acceptCharset  \\\n",
       "0  x-gzip, x-deflate, gzip, deflate  utf-8, utf-8;q=0.5, *;q=0.5   \n",
       "1  x-gzip, x-deflate, gzip, deflate  utf-8, utf-8;q=0.5, *;q=0.5   \n",
       "2  x-gzip, x-deflate, gzip, deflate  utf-8, utf-8;q=0.5, *;q=0.5   \n",
       "3  x-gzip, x-deflate, gzip, deflate  utf-8, utf-8;q=0.5, *;q=0.5   \n",
       "4  x-gzip, x-deflate, gzip, deflate  utf-8, utf-8;q=0.5, *;q=0.5   \n",
       "\n",
       "  acceptLanguage            host connection contentLength contentType  \\\n",
       "0             en  localhost:8080      close          null        null   \n",
       "1             en  localhost:8080      close          null        null   \n",
       "2             en  localhost:8080      close          null        null   \n",
       "3             en  localhost:8080      close          null        null   \n",
       "4             en  localhost:8080      close          null        null   \n",
       "\n",
       "                                        cookie  \\\n",
       "0  JSESSIONID=B92A8B48B9008CD29F622A994E0F650D   \n",
       "1  JSESSIONID=B92A8B48B9008CD29F622A994E0F650D   \n",
       "2  JSESSIONID=B92A8B48B9008CD29F622A994E0F650D   \n",
       "3  JSESSIONID=B92A8B48B9008CD29F622A994E0F650D   \n",
       "4  JSESSIONID=B92A8B48B9008CD29F622A994E0F650D   \n",
       "\n",
       "                                             payload label  \n",
       "0                                               id=2  anom  \n",
       "1                               nombre=Jam�n Ib�rico  anom  \n",
       "2                                          precio=85  anom  \n",
       "3  cantidad='; DROP TABLE usuarios; SELECT * FROM...  anom  \n",
       "4                               B1=A�adir al carrito  anom  "
      ]
     },
     "execution_count": 3,
     "metadata": {},
     "output_type": "execute_result"
    }
   ],
   "source": [
    "df = pd.read_csv('output_http_csic_2010_weka_with_duplications_utf8_escd_v02_full.csv')\n",
    "df.head()"
   ]
  },
  {
   "cell_type": "code",
   "execution_count": 4,
   "metadata": {
    "collapsed": false
   },
   "outputs": [
    {
     "data": {
      "text/html": [
       "<div>\n",
       "<table border=\"1\" class=\"dataframe\">\n",
       "  <thead>\n",
       "    <tr style=\"text-align: right;\">\n",
       "      <th></th>\n",
       "      <th>index</th>\n",
       "      <th>method</th>\n",
       "      <th>url</th>\n",
       "      <th>contentLength</th>\n",
       "      <th>contentType</th>\n",
       "      <th>payload</th>\n",
       "      <th>label</th>\n",
       "      <th>port</th>\n",
       "    </tr>\n",
       "  </thead>\n",
       "  <tbody>\n",
       "    <tr>\n",
       "      <th>0</th>\n",
       "      <td>0</td>\n",
       "      <td>GET</td>\n",
       "      <td>http://localhost:8080/tienda1/publico/anadir.jsp</td>\n",
       "      <td>null</td>\n",
       "      <td>null</td>\n",
       "      <td>id=2</td>\n",
       "      <td>anom</td>\n",
       "      <td>8080</td>\n",
       "    </tr>\n",
       "    <tr>\n",
       "      <th>1</th>\n",
       "      <td>0</td>\n",
       "      <td>GET</td>\n",
       "      <td>http://localhost:8080/tienda1/publico/anadir.jsp</td>\n",
       "      <td>null</td>\n",
       "      <td>null</td>\n",
       "      <td>nombre=Jam�n Ib�rico</td>\n",
       "      <td>anom</td>\n",
       "      <td>8080</td>\n",
       "    </tr>\n",
       "    <tr>\n",
       "      <th>2</th>\n",
       "      <td>0</td>\n",
       "      <td>GET</td>\n",
       "      <td>http://localhost:8080/tienda1/publico/anadir.jsp</td>\n",
       "      <td>null</td>\n",
       "      <td>null</td>\n",
       "      <td>precio=85</td>\n",
       "      <td>anom</td>\n",
       "      <td>8080</td>\n",
       "    </tr>\n",
       "    <tr>\n",
       "      <th>3</th>\n",
       "      <td>0</td>\n",
       "      <td>GET</td>\n",
       "      <td>http://localhost:8080/tienda1/publico/anadir.jsp</td>\n",
       "      <td>null</td>\n",
       "      <td>null</td>\n",
       "      <td>cantidad='; DROP TABLE usuarios; SELECT * FROM...</td>\n",
       "      <td>anom</td>\n",
       "      <td>8080</td>\n",
       "    </tr>\n",
       "    <tr>\n",
       "      <th>4</th>\n",
       "      <td>0</td>\n",
       "      <td>GET</td>\n",
       "      <td>http://localhost:8080/tienda1/publico/anadir.jsp</td>\n",
       "      <td>null</td>\n",
       "      <td>null</td>\n",
       "      <td>B1=A�adir al carrito</td>\n",
       "      <td>anom</td>\n",
       "      <td>8080</td>\n",
       "    </tr>\n",
       "  </tbody>\n",
       "</table>\n",
       "</div>"
      ],
      "text/plain": [
       "   index method                                               url  \\\n",
       "0      0    GET  http://localhost:8080/tienda1/publico/anadir.jsp   \n",
       "1      0    GET  http://localhost:8080/tienda1/publico/anadir.jsp   \n",
       "2      0    GET  http://localhost:8080/tienda1/publico/anadir.jsp   \n",
       "3      0    GET  http://localhost:8080/tienda1/publico/anadir.jsp   \n",
       "4      0    GET  http://localhost:8080/tienda1/publico/anadir.jsp   \n",
       "\n",
       "  contentLength contentType  \\\n",
       "0          null        null   \n",
       "1          null        null   \n",
       "2          null        null   \n",
       "3          null        null   \n",
       "4          null        null   \n",
       "\n",
       "                                             payload label  port  \n",
       "0                                               id=2  anom  8080  \n",
       "1                               nombre=Jam�n Ib�rico  anom  8080  \n",
       "2                                          precio=85  anom  8080  \n",
       "3  cantidad='; DROP TABLE usuarios; SELECT * FROM...  anom  8080  \n",
       "4                               B1=A�adir al carrito  anom  8080  "
      ]
     },
     "execution_count": 4,
     "metadata": {},
     "output_type": "execute_result"
    }
   ],
   "source": [
    "# Remove columns that contain the same value\n",
    "df = df.drop(['userAgent', 'pragma', 'cacheControl', 'acceptEncoding', 'acceptCharset', 'acceptLanguage'], 1)\n",
    "df = df.drop(['connection', 'cookie', 'accept', 'protocol'], 1)\n",
    "\n",
    "# Since everything is localhost let's keep only the port and remove the host part \n",
    "df['port'] = df['host'].str.split(':', expand=True)[1]\n",
    "df = df.drop(['host'], 1)\n",
    "df.head()"
   ]
  },
  {
   "cell_type": "code",
   "execution_count": 5,
   "metadata": {
    "collapsed": false
   },
   "outputs": [
    {
     "name": "stdout",
     "output_type": "stream",
     "text": [
      "               index\n",
      "count  119585.000000\n",
      "mean    13631.637613\n",
      "std      7276.230752\n",
      "min         0.000000\n",
      "25%      7373.000000\n",
      "50%     14668.000000\n",
      "75%     19944.000000\n",
      "max     25064.000000\n",
      "               index\n",
      "count  104000.000000\n",
      "mean    21268.153846\n",
      "std     10914.638765\n",
      "min         0.000000\n",
      "25%     11741.000000\n",
      "50%     23483.000000\n",
      "75%     31047.000000\n",
      "max     35999.000000\n"
     ]
    }
   ],
   "source": [
    "# Split the dataset in two to avoid mixed indices\n",
    "df_anom = df[df['label']=='anom']\n",
    "df_norm = df[df['label']=='norm']\n",
    "print df_anom.describe()\n",
    "print df_norm.describe()"
   ]
  },
  {
   "cell_type": "code",
   "execution_count": 6,
   "metadata": {
    "collapsed": false
   },
   "outputs": [
    {
     "name": "stdout",
     "output_type": "stream",
     "text": [
      "   index                                            payload label\n",
      "0      0                                               id=2  anom\n",
      "1      0                               nombre=Jam�n Ib�rico  anom\n",
      "2      0                                          precio=85  anom\n",
      "3      0  cantidad='; DROP TABLE usuarios; SELECT * FROM...  anom\n",
      "4      0                               B1=A�adir al carrito  anom\n",
      "        index               payload label\n",
      "119586      1                  id=3  norm\n",
      "119587      1     nombre=Vino Rioja  norm\n",
      "119588      1            precio=100  norm\n",
      "119589      1           cantidad=55  norm\n",
      "119590      1  B1=A�adir al carrito  norm\n"
     ]
    }
   ],
   "source": [
    "df2_anom = df_anom[['index', 'payload', 'label']]\n",
    "df2_anom = df2_anom.dropna()\n",
    "print(df2_anom.head())\n",
    "\n",
    "df2_norm = df_norm[['index', 'payload', 'label']]\n",
    "df2_norm = df2_norm.dropna()\n",
    "print(df2_norm.head())"
   ]
  },
  {
   "cell_type": "code",
   "execution_count": 7,
   "metadata": {
    "collapsed": false
   },
   "outputs": [
    {
     "name": "stdout",
     "output_type": "stream",
     "text": [
      "                                                 payload label\n",
      "index                                                         \n",
      "0      cantidad '; DROP TABLE usuarios; SELECT * FROM...  anom\n",
      "1      cantidad 49 id 2/ B1 A�adir al carrito nombre ...  anom\n",
      "3      modo entrar B1 Entrar remember on pwd 84m3ri15...  anom\n",
      "4      modo entrar login grimshaw B1 Entrar remember ...  anom\n",
      "5      modo entrar login grimshaw rememberA on pwd 84...  anom\n",
      "                                                 payload  label\n",
      "index                                                          \n",
      "0      cantidad '; DROP TABLE usuarios; SELECT * FROM...      1\n",
      "1      cantidad 49 id 2/ B1 A�adir al carrito nombre ...      1\n",
      "3      modo entrar B1 Entrar remember on pwd 84m3ri15...      1\n",
      "4      modo entrar login grimshaw B1 Entrar remember ...      1\n",
      "5      modo entrar login grimshaw rememberA on pwd 84...      1\n"
     ]
    }
   ],
   "source": [
    "#df3 = df2[['payload','label']].groupby(df2['index']).sum()\n",
    "#df3 = df2[['payload','label']].groupby(df2['index']).agg(lambda x: ' '.join(set(x)))\n",
    "df3_anom = df2_anom[['payload','label']].groupby(df2_anom['index']).agg(lambda x: ' '.join(set(x)))\n",
    "df3_anom[\"payload\"] = df3_anom['payload'].apply(lambda x: x.replace(\"=\", \" \"))\n",
    "print(df3_anom.head())\n",
    "\n",
    "df3_anom['label'] = 1\n",
    "print(df3_anom.head())"
   ]
  },
  {
   "cell_type": "code",
   "execution_count": 8,
   "metadata": {
    "collapsed": false
   },
   "outputs": [
    {
     "name": "stdout",
     "output_type": "stream",
     "text": [
      "                                                 payload label\n",
      "index                                                         \n",
      "1      nombre Vino Rioja B1 A�adir al carrito precio ...  norm\n",
      "2      modo entrar B1 Entrar pwd d1se3ci�n login choo...  norm\n",
      "3                                                   id 2  norm\n",
      "5                      errorMsg Credenciales incorrectas  norm\n",
      "7            B1 Pasar por caja precio 2672 modo insertar  norm\n",
      "                                                 payload  label\n",
      "index                                                          \n",
      "1      nombre Vino Rioja B1 A�adir al carrito precio ...      0\n",
      "2      modo entrar B1 Entrar pwd d1se3ci�n login choo...      0\n",
      "3                                                   id 2      0\n",
      "5                      errorMsg Credenciales incorrectas      0\n",
      "7            B1 Pasar por caja precio 2672 modo insertar      0\n"
     ]
    }
   ],
   "source": [
    "df3_norm = df2_norm[['payload','label']].groupby(df2_norm['index']).agg(lambda x: ' '.join(set(x)))\n",
    "df3_norm[\"payload\"] = df3_norm['payload'].apply(lambda x: x.replace(\"=\", \" \"))\n",
    "print(df3_norm.head())\n",
    "\n",
    "df3_norm['label'] = 0\n",
    "print(df3_norm.head())"
   ]
  },
  {
   "cell_type": "code",
   "execution_count": 9,
   "metadata": {
    "collapsed": false
   },
   "outputs": [
    {
     "name": "stdout",
     "output_type": "stream",
     "text": [
      "                                                 payload  label\n",
      "index                                                          \n",
      "1      nombre Vino Rioja B1 A�adir al carrito precio ...      0\n",
      "2      modo entrar B1 Entrar pwd d1se3ci�n login choo...      0\n",
      "3                                                   id 2      0\n",
      "5                      errorMsg Credenciales incorrectas      0\n",
      "7            B1 Pasar por caja precio 2672 modo insertar      0\n",
      "              label\n",
      "count  35574.000000\n",
      "mean       0.550233\n",
      "std        0.497477\n",
      "min        0.000000\n",
      "25%        0.000000\n",
      "50%        1.000000\n",
      "75%        1.000000\n",
      "max        1.000000\n",
      "1    19574\n",
      "0    16000\n",
      "Name: label, dtype: int64\n"
     ]
    }
   ],
   "source": [
    "df4 = pd.concat([df3_norm, df3_anom])\n",
    "print(df4.head())\n",
    "print(df4.describe())\n",
    "print(df4.label.value_counts())"
   ]
  },
  {
   "cell_type": "code",
   "execution_count": 10,
   "metadata": {
    "collapsed": true
   },
   "outputs": [],
   "source": [
    "# Vectorize the payload by creating character n-grams\n",
    "vec = TfidfVectorizer(analyzer='word',ngram_range=(3,3))\n",
    "#vec = HashingVectorizer(analyzer='char',ngram_range=(6,6))\n",
    "\n",
    "y = df4['label']\n",
    "X = vec.fit_transform(df4['payload'].dropna())"
   ]
  },
  {
   "cell_type": "code",
   "execution_count": 11,
   "metadata": {
    "collapsed": false
   },
   "outputs": [
    {
     "name": "stdout",
     "output_type": "stream",
     "text": [
      "((35574, 111699), (35574,))\n"
     ]
    }
   ],
   "source": [
    "print(X.shape, y.shape)"
   ]
  },
  {
   "cell_type": "code",
   "execution_count": 12,
   "metadata": {
    "collapsed": false
   },
   "outputs": [
    {
     "name": "stdout",
     "output_type": "stream",
     "text": [
      "(35574, 600)\n"
     ]
    }
   ],
   "source": [
    "# Use a chi-squared test to extract features\n",
    "ch2 = SelectKBest(chi2, k=600)\n",
    "X_train = ch2.fit_transform(X, y)\n",
    "print(X_train.shape)"
   ]
  },
  {
   "cell_type": "code",
   "execution_count": 13,
   "metadata": {
    "collapsed": true
   },
   "outputs": [],
   "source": [
    "X1, y1 = shuffle(X_train, y)\n",
    "offset = int(X1.shape[0] * 0.8)"
   ]
  },
  {
   "cell_type": "code",
   "execution_count": 14,
   "metadata": {
    "collapsed": false
   },
   "outputs": [
    {
     "name": "stdout",
     "output_type": "stream",
     "text": [
      "(0.78580463808854528, 0.83285808291291952)\n",
      "[[1794 1360]\n",
      " [ 164 3797]]\n"
     ]
    }
   ],
   "source": [
    "# Random Forest Classifier\n",
    "clf = RandomForestClassifier(n_estimators=1000)\n",
    "clf.fit(X1[:offset], y1[:offset])\n",
    "pred = clf.predict(X1[offset:,:])\n",
    "\n",
    "accuracy = metrics.accuracy_score(y1[offset:], pred)\n",
    "f1_score = metrics.f1_score(y1[offset:], pred)\n",
    "conf_matrix = metrics.confusion_matrix(y1[offset:], pred)\n",
    "print(accuracy, f1_score)\n",
    "print(conf_matrix)"
   ]
  },
  {
   "cell_type": "code",
   "execution_count": 15,
   "metadata": {
    "collapsed": false
   },
   "outputs": [
    {
     "name": "stdout",
     "output_type": "stream",
     "text": [
      "(0.77610681658468028, 0.82519477669263686)\n",
      "[[1762 1392]\n",
      " [ 201 3760]]\n"
     ]
    }
   ],
   "source": [
    "# Gradient Boosting Classifier\n",
    "clf = GradientBoostingClassifier(n_estimators=1000)\n",
    "clf.fit(X1[:offset], y1[:offset])\n",
    "pred = clf.predict(X1[offset:,:].toarray())\n",
    "\n",
    "accuracy = metrics.accuracy_score(y1[offset:], pred)\n",
    "f1_score = metrics.f1_score(y1[offset:], pred)\n",
    "conf_matrix = metrics.confusion_matrix(y1[offset:], pred)\n",
    "print(accuracy, f1_score)\n",
    "print(conf_matrix)"
   ]
  },
  {
   "cell_type": "code",
   "execution_count": 17,
   "metadata": {
    "collapsed": false
   },
   "outputs": [
    {
     "name": "stdout",
     "output_type": "stream",
     "text": [
      "(0.71988756148981026, 0.77788922322523124)\n",
      "[[1632 1522]\n",
      " [ 471 3490]]\n"
     ]
    }
   ],
   "source": [
    "clf = LinearSVC(penalty=\"l2\", dual=False, tol=2, C=1, max_iter=10000)\n",
    "clf.fit(X1[:offset], y1[:offset])\n",
    "pred = clf.predict(X1[offset:,:])\n",
    "accuracy = metrics.accuracy_score(y1[offset:], pred)\n",
    "f1_score = metrics.f1_score(y1[offset:], pred)\n",
    "conf_matrix = metrics.confusion_matrix(y1[offset:], pred)\n",
    "print(accuracy, f1_score)\n",
    "print(conf_matrix)"
   ]
  },
  {
   "cell_type": "code",
   "execution_count": 21,
   "metadata": {
    "collapsed": false
   },
   "outputs": [
    {
     "name": "stdout",
     "output_type": "stream",
     "text": [
      "(0.76444132115249475, 0.81340458695168105)\n",
      "[[1786 1368]\n",
      " [ 308 3653]]\n"
     ]
    }
   ],
   "source": [
    "clf = KNeighborsClassifier(n_neighbors=20)\n",
    "clf.fit(X1[:offset].toarray(), y1.values[:offset])\n",
    "pred = clf.predict(X1[offset:,:].toarray())\n",
    "accuracy = metrics.accuracy_score(y1[offset:], pred)\n",
    "f1_score = metrics.f1_score(y1[offset:], pred)\n",
    "conf_matrix = metrics.confusion_matrix(y1[offset:], pred)\n",
    "print(accuracy, f1_score)\n",
    "print(conf_matrix)"
   ]
  },
  {
   "cell_type": "code",
   "execution_count": 19,
   "metadata": {
    "collapsed": false
   },
   "outputs": [
    {
     "name": "stdout",
     "output_type": "stream",
     "text": [
      "(0.66479269149683762, 0.76765708718947878)\n",
      "[[ 790 2364]\n",
      " [  21 3940]]\n"
     ]
    }
   ],
   "source": [
    "clf = SGDClassifier(alpha=.01, n_iter=10000)\n",
    "clf.fit(X1[:offset], y1[:offset])\n",
    "pred = clf.predict(X1[offset:,:])\n",
    "accuracy = metrics.accuracy_score(y1[offset:], pred)\n",
    "f1_score = metrics.f1_score(y1[offset:], pred)\n",
    "conf_matrix = metrics.confusion_matrix(y1[offset:], pred)\n",
    "print(accuracy, f1_score)\n",
    "print(conf_matrix)"
   ]
  },
  {
   "cell_type": "code",
   "execution_count": 20,
   "metadata": {
    "collapsed": false
   },
   "outputs": [
    {
     "name": "stdout",
     "output_type": "stream",
     "text": [
      "(0.74378074490513002, 0.79710628825820806)\n",
      "[[1711 1443]\n",
      " [ 380 3581]]\n"
     ]
    }
   ],
   "source": [
    "clf = PassiveAggressiveClassifier(n_iter=50)\n",
    "clf.fit(X1[:offset].toarray(), y1[:offset])\n",
    "pred = clf.predict(X1[offset:,:].toarray())\n",
    "accuracy = metrics.accuracy_score(y1[offset:], pred)\n",
    "f1_score = metrics.f1_score(y1[offset:], pred)\n",
    "conf_matrix = metrics.confusion_matrix(y1[offset:], pred)\n",
    "print(accuracy, f1_score)\n",
    "print(conf_matrix)"
   ]
  },
  {
   "cell_type": "code",
   "execution_count": null,
   "metadata": {
    "collapsed": true
   },
   "outputs": [],
   "source": []
  }
 ],
 "metadata": {
  "kernelspec": {
   "display_name": "Python [Root]",
   "language": "python",
   "name": "Python [Root]"
  },
  "language_info": {
   "codemirror_mode": {
    "name": "ipython",
    "version": 2
   },
   "file_extension": ".py",
   "mimetype": "text/x-python",
   "name": "python",
   "nbconvert_exporter": "python",
   "pygments_lexer": "ipython2",
   "version": "2.7.12"
  }
 },
 "nbformat": 4,
 "nbformat_minor": 0
}
