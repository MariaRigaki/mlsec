{
 "cells": [
  {
   "cell_type": "code",
   "execution_count": 1,
   "metadata": {
    "collapsed": true
   },
   "outputs": [],
   "source": [
    "import pandas as pd\n",
    "import numpy as np\n",
    "from sklearn.feature_extraction.text import TfidfVectorizer, HashingVectorizer\n",
    "from sklearn.feature_selection import SelectKBest, chi2\n",
    "from sklearn import metrics"
   ]
  },
  {
   "cell_type": "code",
   "execution_count": 45,
   "metadata": {
    "collapsed": true
   },
   "outputs": [],
   "source": [
    "from sklearn.svm import LinearSVC\n",
    "from sklearn.linear_model import SGDClassifier\n",
    "from sklearn.linear_model import Perceptron\n",
    "from sklearn.linear_model import PassiveAggressiveClassifier\n",
    "from sklearn.naive_bayes import BernoulliNB, MultinomialNB\n",
    "from sklearn.neighbors import KNeighborsClassifier\n",
    "from sklearn.neighbors import NearestCentroid\n",
    "from sklearn.ensemble import RandomForestClassifier, GradientBoostingClassifier\n",
    "from sklearn.utils import shuffle"
   ]
  },
  {
   "cell_type": "code",
   "execution_count": 151,
   "metadata": {
    "collapsed": false
   },
   "outputs": [
    {
     "data": {
      "text/html": [
       "<div>\n",
       "<table border=\"1\" class=\"dataframe\">\n",
       "  <thead>\n",
       "    <tr style=\"text-align: right;\">\n",
       "      <th></th>\n",
       "      <th>index</th>\n",
       "      <th>method</th>\n",
       "      <th>url</th>\n",
       "      <th>protocol</th>\n",
       "      <th>userAgent</th>\n",
       "      <th>pragma</th>\n",
       "      <th>cacheControl</th>\n",
       "      <th>accept</th>\n",
       "      <th>acceptEncoding</th>\n",
       "      <th>acceptCharset</th>\n",
       "      <th>acceptLanguage</th>\n",
       "      <th>host</th>\n",
       "      <th>connection</th>\n",
       "      <th>contentLength</th>\n",
       "      <th>contentType</th>\n",
       "      <th>cookie</th>\n",
       "      <th>payload</th>\n",
       "      <th>label</th>\n",
       "    </tr>\n",
       "  </thead>\n",
       "  <tbody>\n",
       "    <tr>\n",
       "      <th>0</th>\n",
       "      <td>0</td>\n",
       "      <td>GET</td>\n",
       "      <td>http://localhost:8080/tienda1/publico/anadir.jsp</td>\n",
       "      <td>HTTP/1.1</td>\n",
       "      <td>Mozilla/5.0 (compatible; Konqueror/3.5; Linux)...</td>\n",
       "      <td>no-cache</td>\n",
       "      <td>no-cache</td>\n",
       "      <td>text/xml,application/xml,application/xhtml+xml...</td>\n",
       "      <td>x-gzip, x-deflate, gzip, deflate</td>\n",
       "      <td>utf-8, utf-8;q=0.5, *;q=0.5</td>\n",
       "      <td>en</td>\n",
       "      <td>localhost:8080</td>\n",
       "      <td>close</td>\n",
       "      <td>null</td>\n",
       "      <td>null</td>\n",
       "      <td>JSESSIONID=B92A8B48B9008CD29F622A994E0F650D</td>\n",
       "      <td>id=2</td>\n",
       "      <td>anom</td>\n",
       "    </tr>\n",
       "    <tr>\n",
       "      <th>1</th>\n",
       "      <td>0</td>\n",
       "      <td>GET</td>\n",
       "      <td>http://localhost:8080/tienda1/publico/anadir.jsp</td>\n",
       "      <td>HTTP/1.1</td>\n",
       "      <td>Mozilla/5.0 (compatible; Konqueror/3.5; Linux)...</td>\n",
       "      <td>no-cache</td>\n",
       "      <td>no-cache</td>\n",
       "      <td>text/xml,application/xml,application/xhtml+xml...</td>\n",
       "      <td>x-gzip, x-deflate, gzip, deflate</td>\n",
       "      <td>utf-8, utf-8;q=0.5, *;q=0.5</td>\n",
       "      <td>en</td>\n",
       "      <td>localhost:8080</td>\n",
       "      <td>close</td>\n",
       "      <td>null</td>\n",
       "      <td>null</td>\n",
       "      <td>JSESSIONID=B92A8B48B9008CD29F622A994E0F650D</td>\n",
       "      <td>nombre=Jam�n Ib�rico</td>\n",
       "      <td>anom</td>\n",
       "    </tr>\n",
       "    <tr>\n",
       "      <th>2</th>\n",
       "      <td>0</td>\n",
       "      <td>GET</td>\n",
       "      <td>http://localhost:8080/tienda1/publico/anadir.jsp</td>\n",
       "      <td>HTTP/1.1</td>\n",
       "      <td>Mozilla/5.0 (compatible; Konqueror/3.5; Linux)...</td>\n",
       "      <td>no-cache</td>\n",
       "      <td>no-cache</td>\n",
       "      <td>text/xml,application/xml,application/xhtml+xml...</td>\n",
       "      <td>x-gzip, x-deflate, gzip, deflate</td>\n",
       "      <td>utf-8, utf-8;q=0.5, *;q=0.5</td>\n",
       "      <td>en</td>\n",
       "      <td>localhost:8080</td>\n",
       "      <td>close</td>\n",
       "      <td>null</td>\n",
       "      <td>null</td>\n",
       "      <td>JSESSIONID=B92A8B48B9008CD29F622A994E0F650D</td>\n",
       "      <td>precio=85</td>\n",
       "      <td>anom</td>\n",
       "    </tr>\n",
       "    <tr>\n",
       "      <th>3</th>\n",
       "      <td>0</td>\n",
       "      <td>GET</td>\n",
       "      <td>http://localhost:8080/tienda1/publico/anadir.jsp</td>\n",
       "      <td>HTTP/1.1</td>\n",
       "      <td>Mozilla/5.0 (compatible; Konqueror/3.5; Linux)...</td>\n",
       "      <td>no-cache</td>\n",
       "      <td>no-cache</td>\n",
       "      <td>text/xml,application/xml,application/xhtml+xml...</td>\n",
       "      <td>x-gzip, x-deflate, gzip, deflate</td>\n",
       "      <td>utf-8, utf-8;q=0.5, *;q=0.5</td>\n",
       "      <td>en</td>\n",
       "      <td>localhost:8080</td>\n",
       "      <td>close</td>\n",
       "      <td>null</td>\n",
       "      <td>null</td>\n",
       "      <td>JSESSIONID=B92A8B48B9008CD29F622A994E0F650D</td>\n",
       "      <td>cantidad='; DROP TABLE usuarios; SELECT * FROM...</td>\n",
       "      <td>anom</td>\n",
       "    </tr>\n",
       "    <tr>\n",
       "      <th>4</th>\n",
       "      <td>0</td>\n",
       "      <td>GET</td>\n",
       "      <td>http://localhost:8080/tienda1/publico/anadir.jsp</td>\n",
       "      <td>HTTP/1.1</td>\n",
       "      <td>Mozilla/5.0 (compatible; Konqueror/3.5; Linux)...</td>\n",
       "      <td>no-cache</td>\n",
       "      <td>no-cache</td>\n",
       "      <td>text/xml,application/xml,application/xhtml+xml...</td>\n",
       "      <td>x-gzip, x-deflate, gzip, deflate</td>\n",
       "      <td>utf-8, utf-8;q=0.5, *;q=0.5</td>\n",
       "      <td>en</td>\n",
       "      <td>localhost:8080</td>\n",
       "      <td>close</td>\n",
       "      <td>null</td>\n",
       "      <td>null</td>\n",
       "      <td>JSESSIONID=B92A8B48B9008CD29F622A994E0F650D</td>\n",
       "      <td>B1=A�adir al carrito</td>\n",
       "      <td>anom</td>\n",
       "    </tr>\n",
       "  </tbody>\n",
       "</table>\n",
       "</div>"
      ],
      "text/plain": [
       "   index method                                               url  protocol  \\\n",
       "0      0    GET  http://localhost:8080/tienda1/publico/anadir.jsp  HTTP/1.1   \n",
       "1      0    GET  http://localhost:8080/tienda1/publico/anadir.jsp  HTTP/1.1   \n",
       "2      0    GET  http://localhost:8080/tienda1/publico/anadir.jsp  HTTP/1.1   \n",
       "3      0    GET  http://localhost:8080/tienda1/publico/anadir.jsp  HTTP/1.1   \n",
       "4      0    GET  http://localhost:8080/tienda1/publico/anadir.jsp  HTTP/1.1   \n",
       "\n",
       "                                           userAgent    pragma cacheControl  \\\n",
       "0  Mozilla/5.0 (compatible; Konqueror/3.5; Linux)...  no-cache     no-cache   \n",
       "1  Mozilla/5.0 (compatible; Konqueror/3.5; Linux)...  no-cache     no-cache   \n",
       "2  Mozilla/5.0 (compatible; Konqueror/3.5; Linux)...  no-cache     no-cache   \n",
       "3  Mozilla/5.0 (compatible; Konqueror/3.5; Linux)...  no-cache     no-cache   \n",
       "4  Mozilla/5.0 (compatible; Konqueror/3.5; Linux)...  no-cache     no-cache   \n",
       "\n",
       "                                              accept  \\\n",
       "0  text/xml,application/xml,application/xhtml+xml...   \n",
       "1  text/xml,application/xml,application/xhtml+xml...   \n",
       "2  text/xml,application/xml,application/xhtml+xml...   \n",
       "3  text/xml,application/xml,application/xhtml+xml...   \n",
       "4  text/xml,application/xml,application/xhtml+xml...   \n",
       "\n",
       "                     acceptEncoding                acceptCharset  \\\n",
       "0  x-gzip, x-deflate, gzip, deflate  utf-8, utf-8;q=0.5, *;q=0.5   \n",
       "1  x-gzip, x-deflate, gzip, deflate  utf-8, utf-8;q=0.5, *;q=0.5   \n",
       "2  x-gzip, x-deflate, gzip, deflate  utf-8, utf-8;q=0.5, *;q=0.5   \n",
       "3  x-gzip, x-deflate, gzip, deflate  utf-8, utf-8;q=0.5, *;q=0.5   \n",
       "4  x-gzip, x-deflate, gzip, deflate  utf-8, utf-8;q=0.5, *;q=0.5   \n",
       "\n",
       "  acceptLanguage            host connection contentLength contentType  \\\n",
       "0             en  localhost:8080      close          null        null   \n",
       "1             en  localhost:8080      close          null        null   \n",
       "2             en  localhost:8080      close          null        null   \n",
       "3             en  localhost:8080      close          null        null   \n",
       "4             en  localhost:8080      close          null        null   \n",
       "\n",
       "                                        cookie  \\\n",
       "0  JSESSIONID=B92A8B48B9008CD29F622A994E0F650D   \n",
       "1  JSESSIONID=B92A8B48B9008CD29F622A994E0F650D   \n",
       "2  JSESSIONID=B92A8B48B9008CD29F622A994E0F650D   \n",
       "3  JSESSIONID=B92A8B48B9008CD29F622A994E0F650D   \n",
       "4  JSESSIONID=B92A8B48B9008CD29F622A994E0F650D   \n",
       "\n",
       "                                             payload label  \n",
       "0                                               id=2  anom  \n",
       "1                               nombre=Jam�n Ib�rico  anom  \n",
       "2                                          precio=85  anom  \n",
       "3  cantidad='; DROP TABLE usuarios; SELECT * FROM...  anom  \n",
       "4                               B1=A�adir al carrito  anom  "
      ]
     },
     "execution_count": 151,
     "metadata": {},
     "output_type": "execute_result"
    }
   ],
   "source": [
    "df = pd.read_csv('output_http_csic_2010_weka_with_duplications_utf8_escd_v02_full.csv')\n",
    "df.head()"
   ]
  },
  {
   "cell_type": "code",
   "execution_count": 152,
   "metadata": {
    "collapsed": false
   },
   "outputs": [
    {
     "data": {
      "text/html": [
       "<div>\n",
       "<table border=\"1\" class=\"dataframe\">\n",
       "  <thead>\n",
       "    <tr style=\"text-align: right;\">\n",
       "      <th></th>\n",
       "      <th>index</th>\n",
       "      <th>method</th>\n",
       "      <th>url</th>\n",
       "      <th>contentLength</th>\n",
       "      <th>contentType</th>\n",
       "      <th>payload</th>\n",
       "      <th>label</th>\n",
       "      <th>port</th>\n",
       "    </tr>\n",
       "  </thead>\n",
       "  <tbody>\n",
       "    <tr>\n",
       "      <th>0</th>\n",
       "      <td>0</td>\n",
       "      <td>GET</td>\n",
       "      <td>http://localhost:8080/tienda1/publico/anadir.jsp</td>\n",
       "      <td>null</td>\n",
       "      <td>null</td>\n",
       "      <td>id=2</td>\n",
       "      <td>anom</td>\n",
       "      <td>8080</td>\n",
       "    </tr>\n",
       "    <tr>\n",
       "      <th>1</th>\n",
       "      <td>0</td>\n",
       "      <td>GET</td>\n",
       "      <td>http://localhost:8080/tienda1/publico/anadir.jsp</td>\n",
       "      <td>null</td>\n",
       "      <td>null</td>\n",
       "      <td>nombre=Jam�n Ib�rico</td>\n",
       "      <td>anom</td>\n",
       "      <td>8080</td>\n",
       "    </tr>\n",
       "    <tr>\n",
       "      <th>2</th>\n",
       "      <td>0</td>\n",
       "      <td>GET</td>\n",
       "      <td>http://localhost:8080/tienda1/publico/anadir.jsp</td>\n",
       "      <td>null</td>\n",
       "      <td>null</td>\n",
       "      <td>precio=85</td>\n",
       "      <td>anom</td>\n",
       "      <td>8080</td>\n",
       "    </tr>\n",
       "    <tr>\n",
       "      <th>3</th>\n",
       "      <td>0</td>\n",
       "      <td>GET</td>\n",
       "      <td>http://localhost:8080/tienda1/publico/anadir.jsp</td>\n",
       "      <td>null</td>\n",
       "      <td>null</td>\n",
       "      <td>cantidad='; DROP TABLE usuarios; SELECT * FROM...</td>\n",
       "      <td>anom</td>\n",
       "      <td>8080</td>\n",
       "    </tr>\n",
       "    <tr>\n",
       "      <th>4</th>\n",
       "      <td>0</td>\n",
       "      <td>GET</td>\n",
       "      <td>http://localhost:8080/tienda1/publico/anadir.jsp</td>\n",
       "      <td>null</td>\n",
       "      <td>null</td>\n",
       "      <td>B1=A�adir al carrito</td>\n",
       "      <td>anom</td>\n",
       "      <td>8080</td>\n",
       "    </tr>\n",
       "  </tbody>\n",
       "</table>\n",
       "</div>"
      ],
      "text/plain": [
       "   index method                                               url  \\\n",
       "0      0    GET  http://localhost:8080/tienda1/publico/anadir.jsp   \n",
       "1      0    GET  http://localhost:8080/tienda1/publico/anadir.jsp   \n",
       "2      0    GET  http://localhost:8080/tienda1/publico/anadir.jsp   \n",
       "3      0    GET  http://localhost:8080/tienda1/publico/anadir.jsp   \n",
       "4      0    GET  http://localhost:8080/tienda1/publico/anadir.jsp   \n",
       "\n",
       "  contentLength contentType  \\\n",
       "0          null        null   \n",
       "1          null        null   \n",
       "2          null        null   \n",
       "3          null        null   \n",
       "4          null        null   \n",
       "\n",
       "                                             payload label  port  \n",
       "0                                               id=2  anom  8080  \n",
       "1                               nombre=Jam�n Ib�rico  anom  8080  \n",
       "2                                          precio=85  anom  8080  \n",
       "3  cantidad='; DROP TABLE usuarios; SELECT * FROM...  anom  8080  \n",
       "4                               B1=A�adir al carrito  anom  8080  "
      ]
     },
     "execution_count": 152,
     "metadata": {},
     "output_type": "execute_result"
    }
   ],
   "source": [
    "# Remove columns that contain the same value\n",
    "df = df.drop(['userAgent', 'pragma', 'cacheControl', 'acceptEncoding', 'acceptCharset', 'acceptLanguage'], 1)\n",
    "df = df.drop(['connection', 'cookie', 'accept', 'protocol'], 1)\n",
    "\n",
    "# Since everything is localhost let's keep only the port and remove the host part \n",
    "df['port'] = df['host'].str.split(':', expand=True)[1]\n",
    "df = df.drop(['host'], 1)\n",
    "df.head()"
   ]
  },
  {
   "cell_type": "code",
   "execution_count": 153,
   "metadata": {
    "collapsed": false
   },
   "outputs": [
    {
     "name": "stdout",
     "output_type": "stream",
     "text": [
      "               index\n",
      "count  119585.000000\n",
      "mean    13631.637613\n",
      "std      7276.230752\n",
      "min         0.000000\n",
      "25%      7373.000000\n",
      "50%     14668.000000\n",
      "75%     19944.000000\n",
      "max     25064.000000\n",
      "               index\n",
      "count  104000.000000\n",
      "mean    21268.153846\n",
      "std     10914.638765\n",
      "min         0.000000\n",
      "25%     11741.000000\n",
      "50%     23483.000000\n",
      "75%     31047.000000\n",
      "max     35999.000000\n"
     ]
    }
   ],
   "source": [
    "# Split the dataset in two to avoid mixed indices\n",
    "df_anom = df[df['label']=='anom']\n",
    "df_norm = df[df['label']=='norm']\n",
    "print df_anom.describe()\n",
    "print df_norm.describe()"
   ]
  },
  {
   "cell_type": "code",
   "execution_count": 154,
   "metadata": {
    "collapsed": false
   },
   "outputs": [
    {
     "name": "stdout",
     "output_type": "stream",
     "text": [
      "   index                                            payload label\n",
      "0      0                                               id=2  anom\n",
      "1      0                               nombre=Jam�n Ib�rico  anom\n",
      "2      0                                          precio=85  anom\n",
      "3      0  cantidad='; DROP TABLE usuarios; SELECT * FROM...  anom\n",
      "4      0                               B1=A�adir al carrito  anom\n",
      "        index               payload label\n",
      "119586      1                  id=3  norm\n",
      "119587      1     nombre=Vino Rioja  norm\n",
      "119588      1            precio=100  norm\n",
      "119589      1           cantidad=55  norm\n",
      "119590      1  B1=A�adir al carrito  norm\n"
     ]
    }
   ],
   "source": [
    "df2_anom = df_anom[['index', 'payload', 'label']]\n",
    "df2_anom = df2_anom.dropna()\n",
    "print(df2_anom.head())\n",
    "\n",
    "df2_norm = df_norm[['index', 'payload', 'label']]\n",
    "df2_norm = df2_norm.dropna()\n",
    "print(df2_norm.head())"
   ]
  },
  {
   "cell_type": "code",
   "execution_count": 155,
   "metadata": {
    "collapsed": false
   },
   "outputs": [
    {
     "name": "stdout",
     "output_type": "stream",
     "text": [
      "                                                 payload label\n",
      "index                                                         \n",
      "0      cantidad '; DROP TABLE usuarios; SELECT * FROM...  anom\n",
      "1      cantidad 49 id 2/ B1 A�adir al carrito nombre ...  anom\n",
      "3      modo entrar B1 Entrar remember on pwd 84m3ri15...  anom\n",
      "4      modo entrar login grimshaw B1 Entrar remember ...  anom\n",
      "5      modo entrar login grimshaw rememberA on pwd 84...  anom\n",
      "                                                 payload  label\n",
      "index                                                          \n",
      "0      cantidad '; DROP TABLE usuarios; SELECT * FROM...      1\n",
      "1      cantidad 49 id 2/ B1 A�adir al carrito nombre ...      1\n",
      "3      modo entrar B1 Entrar remember on pwd 84m3ri15...      1\n",
      "4      modo entrar login grimshaw B1 Entrar remember ...      1\n",
      "5      modo entrar login grimshaw rememberA on pwd 84...      1\n"
     ]
    }
   ],
   "source": [
    "#df3 = df2[['payload','label']].groupby(df2['index']).sum()\n",
    "#df3 = df2[['payload','label']].groupby(df2['index']).agg(lambda x: ' '.join(set(x)))\n",
    "df3_anom = df2_anom[['payload','label']].groupby(df2_anom['index']).agg(lambda x: ' '.join(set(x)))\n",
    "df3_anom[\"payload\"] = df3_anom['payload'].apply(lambda x: x.replace(\"=\", \" \"))\n",
    "print(df3_anom.head())\n",
    "\n",
    "df3_anom['label'] = 1\n",
    "print(df3_anom.head())"
   ]
  },
  {
   "cell_type": "code",
   "execution_count": 156,
   "metadata": {
    "collapsed": false
   },
   "outputs": [
    {
     "name": "stdout",
     "output_type": "stream",
     "text": [
      "                                                 payload label\n",
      "index                                                         \n",
      "1      nombre Vino Rioja B1 A�adir al carrito precio ...  norm\n",
      "2      modo entrar B1 Entrar pwd d1se3ci�n login choo...  norm\n",
      "3                                                   id 2  norm\n",
      "5                      errorMsg Credenciales incorrectas  norm\n",
      "7            B1 Pasar por caja precio 2672 modo insertar  norm\n",
      "                                                 payload  label\n",
      "index                                                          \n",
      "1      nombre Vino Rioja B1 A�adir al carrito precio ...      0\n",
      "2      modo entrar B1 Entrar pwd d1se3ci�n login choo...      0\n",
      "3                                                   id 2      0\n",
      "5                      errorMsg Credenciales incorrectas      0\n",
      "7            B1 Pasar por caja precio 2672 modo insertar      0\n"
     ]
    }
   ],
   "source": [
    "df3_norm = df2_norm[['payload','label']].groupby(df2_norm['index']).agg(lambda x: ' '.join(set(x)))\n",
    "df3_norm[\"payload\"] = df3_norm['payload'].apply(lambda x: x.replace(\"=\", \" \"))\n",
    "print(df3_norm.head())\n",
    "\n",
    "df3_norm['label'] = 0\n",
    "print(df3_norm.head())"
   ]
  },
  {
   "cell_type": "code",
   "execution_count": 157,
   "metadata": {
    "collapsed": false
   },
   "outputs": [
    {
     "name": "stdout",
     "output_type": "stream",
     "text": [
      "                                                 payload  label\n",
      "index                                                          \n",
      "1      nombre Vino Rioja B1 A�adir al carrito precio ...      0\n",
      "2      modo entrar B1 Entrar pwd d1se3ci�n login choo...      0\n",
      "3                                                   id 2      0\n",
      "5                      errorMsg Credenciales incorrectas      0\n",
      "7            B1 Pasar por caja precio 2672 modo insertar      0\n",
      "              label\n",
      "count  35574.000000\n",
      "mean       0.550233\n",
      "std        0.497477\n",
      "min        0.000000\n",
      "25%        0.000000\n",
      "50%        1.000000\n",
      "75%        1.000000\n",
      "max        1.000000\n",
      "1    19574\n",
      "0    16000\n",
      "Name: label, dtype: int64\n"
     ]
    }
   ],
   "source": [
    "df4 = pd.concat([df3_norm, df3_anom])\n",
    "print(df4.head())\n",
    "print(df4.describe())\n",
    "print(df4.label.value_counts())"
   ]
  },
  {
   "cell_type": "code",
   "execution_count": 272,
   "metadata": {
    "collapsed": true
   },
   "outputs": [],
   "source": [
    "# Vectorize the payload by creating character n-grams\n",
    "vec = TfidfVectorizer(analyzer='word',ngram_range=(3,3))\n",
    "#vec = HashingVectorizer(analyzer='char',ngram_range=(6,6))\n",
    "\n",
    "y = df4['label']\n",
    "X = vec.fit_transform(df4['payload'].dropna())"
   ]
  },
  {
   "cell_type": "code",
   "execution_count": 273,
   "metadata": {
    "collapsed": false
   },
   "outputs": [
    {
     "name": "stdout",
     "output_type": "stream",
     "text": [
      "((35574, 111699), (35574,))\n"
     ]
    }
   ],
   "source": [
    "print(X.shape, y.shape)"
   ]
  },
  {
   "cell_type": "code",
   "execution_count": 274,
   "metadata": {
    "collapsed": false
   },
   "outputs": [
    {
     "name": "stdout",
     "output_type": "stream",
     "text": [
      "(35574, 600)\n"
     ]
    }
   ],
   "source": [
    "# Use a chi-squared test to extract features\n",
    "ch2 = SelectKBest(chi2, k=600)\n",
    "X_train = ch2.fit_transform(X, y)\n",
    "print(X_train.shape)"
   ]
  },
  {
   "cell_type": "code",
   "execution_count": 275,
   "metadata": {
    "collapsed": true
   },
   "outputs": [],
   "source": [
    "X1, y1 = shuffle(X_train, y)\n",
    "offset = int(X1.shape[0] * 0.8)"
   ]
  },
  {
   "cell_type": "code",
   "execution_count": 178,
   "metadata": {
    "collapsed": false
   },
   "outputs": [],
   "source": [
    "from keras.models import Sequential\n",
    "from keras.layers import Dense, Activation, Dropout"
   ]
  },
  {
   "cell_type": "code",
   "execution_count": 295,
   "metadata": {
    "collapsed": true
   },
   "outputs": [],
   "source": [
    "model = Sequential()\n",
    "model.add(Dense(input_dim=X1.shape[1], output_dim=600))\n",
    "model.add(Activation('relu'))\n",
    "model.add(Dense(600))\n",
    "model.add(Activation('relu'))\n",
    "#model.add(Dropout(0.5))\n",
    "model.add(Dense(300))\n",
    "model.add(Activation('relu'))\n",
    "#model.add(Dropout(0.5))\n",
    "#model.add(Dense(100))\n",
    "#model.add(Activation('relu'))\n",
    "model.add(Dense(10))\n",
    "model.add(Activation('relu'))\n",
    "model.add(Dense(1))\n",
    "model.add(Activation('sigmoid'))\n",
    "\n",
    "model.compile(optimizer='adam',\n",
    "              loss='binary_crossentropy',\n",
    "              metrics=['accuracy'])"
   ]
  },
  {
   "cell_type": "code",
   "execution_count": 296,
   "metadata": {
    "collapsed": false
   },
   "outputs": [
    {
     "name": "stdout",
     "output_type": "stream",
     "text": [
      "Train on 28459 samples, validate on 7115 samples\n",
      "Epoch 1/25\n",
      "28459/28459 [==============================] - 1s - loss: 0.4421 - acc: 0.7255 - val_loss: 0.4181 - val_acc: 0.7396\n",
      "Epoch 2/25\n",
      "28459/28459 [==============================] - 1s - loss: 0.4213 - acc: 0.7370 - val_loss: 0.4182 - val_acc: 0.7421\n",
      "Epoch 3/25\n",
      "28459/28459 [==============================] - 1s - loss: 0.4188 - acc: 0.7379 - val_loss: 0.4186 - val_acc: 0.7434\n",
      "Epoch 4/25\n",
      "28459/28459 [==============================] - 1s - loss: 0.4178 - acc: 0.7384 - val_loss: 0.4187 - val_acc: 0.7390\n",
      "Epoch 5/25\n",
      "28459/28459 [==============================] - 1s - loss: 0.4173 - acc: 0.7388 - val_loss: 0.4197 - val_acc: 0.7396\n",
      "Epoch 6/25\n",
      "28459/28459 [==============================] - 1s - loss: 0.4170 - acc: 0.7385 - val_loss: 0.4194 - val_acc: 0.7411\n",
      "Epoch 7/25\n",
      "28459/28459 [==============================] - 1s - loss: 0.4167 - acc: 0.7391 - val_loss: 0.4199 - val_acc: 0.7397\n",
      "Epoch 8/25\n",
      "28459/28459 [==============================] - 1s - loss: 0.4164 - acc: 0.7387 - val_loss: 0.4200 - val_acc: 0.7400\n",
      "Epoch 9/25\n",
      "28459/28459 [==============================] - 1s - loss: 0.4165 - acc: 0.7376 - val_loss: 0.4203 - val_acc: 0.7390\n",
      "Epoch 10/25\n",
      "28459/28459 [==============================] - 1s - loss: 0.4162 - acc: 0.7382 - val_loss: 0.4205 - val_acc: 0.7417\n",
      "Epoch 11/25\n",
      "28459/28459 [==============================] - 1s - loss: 0.4226 - acc: 0.7379 - val_loss: 0.4206 - val_acc: 0.7413\n",
      "Epoch 12/25\n",
      "28459/28459 [==============================] - 1s - loss: 0.4164 - acc: 0.7391 - val_loss: 0.4204 - val_acc: 0.7415\n",
      "Epoch 13/25\n",
      "28459/28459 [==============================] - 1s - loss: 0.4160 - acc: 0.7385 - val_loss: 0.4203 - val_acc: 0.7415\n",
      "Epoch 14/25\n",
      "28459/28459 [==============================] - 1s - loss: 0.4158 - acc: 0.7358 - val_loss: 0.4203 - val_acc: 0.7442\n",
      "Epoch 15/25\n",
      "28459/28459 [==============================] - 1s - loss: 0.4158 - acc: 0.7398 - val_loss: 0.4205 - val_acc: 0.7436\n",
      "Epoch 16/25\n",
      "28459/28459 [==============================] - 1s - loss: 0.4157 - acc: 0.7392 - val_loss: 0.4207 - val_acc: 0.7441\n",
      "Epoch 17/25\n",
      "28459/28459 [==============================] - 1s - loss: 0.4154 - acc: 0.7396 - val_loss: 0.4205 - val_acc: 0.7411\n",
      "Epoch 18/25\n",
      "28459/28459 [==============================] - 1s - loss: 0.4153 - acc: 0.7395 - val_loss: 0.4208 - val_acc: 0.7445\n",
      "Epoch 19/25\n",
      "28459/28459 [==============================] - 1s - loss: 0.4151 - acc: 0.7405 - val_loss: 0.4210 - val_acc: 0.7446\n",
      "Epoch 20/25\n",
      "28459/28459 [==============================] - 1s - loss: 0.4152 - acc: 0.7401 - val_loss: 0.4203 - val_acc: 0.7441\n",
      "Epoch 21/25\n",
      "28459/28459 [==============================] - 1s - loss: 0.4150 - acc: 0.7403 - val_loss: 0.4208 - val_acc: 0.7439\n",
      "Epoch 22/25\n",
      "28459/28459 [==============================] - 1s - loss: 0.4150 - acc: 0.7395 - val_loss: 0.4202 - val_acc: 0.7432\n",
      "Epoch 23/25\n",
      "28459/28459 [==============================] - 1s - loss: 0.4152 - acc: 0.7388 - val_loss: 0.4205 - val_acc: 0.7441\n",
      "Epoch 24/25\n",
      "28459/28459 [==============================] - 1s - loss: 0.4150 - acc: 0.7391 - val_loss: 0.4209 - val_acc: 0.7432\n",
      "Epoch 25/25\n",
      "28459/28459 [==============================] - 1s - loss: 0.4148 - acc: 0.7397 - val_loss: 0.4204 - val_acc: 0.7448\n"
     ]
    },
    {
     "data": {
      "text/plain": [
       "<keras.callbacks.History at 0x7f192fe49390>"
      ]
     },
     "execution_count": 296,
     "metadata": {},
     "output_type": "execute_result"
    }
   ],
   "source": [
    "model.fit(X1[:offset].toarray(), y1[:offset], batch_size=100, nb_epoch=25, verbose=1, callbacks=[],\n",
    "          validation_data=(X1[offset:].toarray(), y1[offset:]),\n",
    "          shuffle=False, class_weight=None, sample_weight=None)"
   ]
  },
  {
   "cell_type": "code",
   "execution_count": 297,
   "metadata": {
    "collapsed": false
   },
   "outputs": [
    {
     "name": "stdout",
     "output_type": "stream",
     "text": [
      "6528/7115 [==========================>...] - ETA: 0s\n",
      "\n",
      "(0.74476458186929018, 0.79659498207885304)\n",
      "[[1743 1500]\n",
      " [ 316 3556]]\n"
     ]
    }
   ],
   "source": [
    "pred = model.predict_classes(X1[offset:].toarray())\n",
    "accuracy = metrics.accuracy_score(y1[offset:], pred)\n",
    "f1_score = metrics.f1_score(y1[offset:], pred)\n",
    "conf_matrix = metrics.confusion_matrix(y1[offset:], pred)\n",
    "print(\"\\n\")\n",
    "print(accuracy, f1_score)\n",
    "print(conf_matrix)"
   ]
  },
  {
   "cell_type": "code",
   "execution_count": null,
   "metadata": {
    "collapsed": true
   },
   "outputs": [],
   "source": []
  }
 ],
 "metadata": {
  "kernelspec": {
   "display_name": "Python [Root]",
   "language": "python",
   "name": "Python [Root]"
  },
  "language_info": {
   "codemirror_mode": {
    "name": "ipython",
    "version": 2
   },
   "file_extension": ".py",
   "mimetype": "text/x-python",
   "name": "python",
   "nbconvert_exporter": "python",
   "pygments_lexer": "ipython2",
   "version": "2.7.12"
  }
 },
 "nbformat": 4,
 "nbformat_minor": 0
}
